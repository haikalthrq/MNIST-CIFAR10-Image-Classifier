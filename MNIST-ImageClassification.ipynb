{
 "cells": [
  {
   "cell_type": "markdown",
   "metadata": {},
   "source": [
    "## 1. Import Library yang dibutuhkan"
   ]
  },
  {
   "cell_type": "markdown",
   "metadata": {},
   "source": [
    "Konfigurasi perangkat (menggunakan GPU jika tersedia, jika tidak menggunakan CPU)"
   ]
  },
  {
   "cell_type": "code",
   "execution_count": 5,
   "metadata": {},
   "outputs": [
    {
     "name": "stdout",
     "output_type": "stream",
     "text": [
      "isAvailable:  cuda\n"
     ]
    }
   ],
   "source": [
    "import torch\n",
    "\n",
    "device = torch.device('cuda' if torch.cuda.is_available() else 'cpu')\n",
    "print('isAvailable: ', device)"
   ]
  },
  {
   "cell_type": "code",
   "execution_count": 6,
   "metadata": {},
   "outputs": [],
   "source": [
    "import torch.nn as nn\n",
    "import torch.optim as optim\n",
    "import torch.nn.functional as F\n",
    "from torchvision import datasets, transforms\n",
    "from torch.utils.data import DataLoader\n"
   ]
  },
  {
   "cell_type": "markdown",
   "metadata": {},
   "source": [
    "## 2. Hyperparameter"
   ]
  },
  {
   "cell_type": "code",
   "execution_count": 7,
   "metadata": {},
   "outputs": [],
   "source": [
    "batch_size = 64\n",
    "learning_rate = 0.001\n",
    "num_epochs = 100"
   ]
  },
  {
   "cell_type": "markdown",
   "metadata": {},
   "source": [
    "## 3. Transformasi dan Normalisasi data"
   ]
  },
  {
   "cell_type": "code",
   "execution_count": 8,
   "metadata": {},
   "outputs": [],
   "source": [
    "transform = transforms.Compose([\n",
    "    transforms.ToTensor(),\n",
    "    transforms.Normalize((0.1307,), (0.3081,))  # Normalisasi data MNIST\n",
    "])"
   ]
  },
  {
   "cell_type": "markdown",
   "metadata": {},
   "source": [
    "## 4. Load dataset MNIST"
   ]
  },
  {
   "cell_type": "code",
   "execution_count": 9,
   "metadata": {},
   "outputs": [],
   "source": [
    "train_dataset = datasets.MNIST(root='./data', train=True, transform=transform, download=True)\n",
    "test_dataset = datasets.MNIST(root='./data', train=False, transform=transform, download=True)\n",
    "\n",
    "# Masukkan dataset ke dalam DataLoader\n",
    "train_loader = DataLoader(dataset=train_dataset, batch_size=batch_size, shuffle=True)\n",
    "test_loader = DataLoader(dataset=test_dataset, batch_size=batch_size, shuffle=False)"
   ]
  },
  {
   "cell_type": "markdown",
   "metadata": {},
   "source": [
    "## 5.  Membangun model Convolutional Neural Networks (CNN)\n"
   ]
  },
  {
   "cell_type": "code",
   "execution_count": 10,
   "metadata": {},
   "outputs": [],
   "source": [
    "class MNISTModel(nn.Module):\n",
    "    def __init__(self):\n",
    "        super(MNISTModel, self).__init__()\n",
    "        self.fc1 = nn.Linear(28 * 28, 512)\n",
    "        self.bn1 = nn.BatchNorm1d(512)  # Batch normalization setelah fully connected layer 1\n",
    "        self.fc2 = nn.Linear(512, 256)\n",
    "        self.bn2 = nn.BatchNorm1d(256)  # Batch normalization setelah fully connected layer 2\n",
    "        self.fc3 = nn.Linear(256, 128)\n",
    "        self.bn3 = nn.BatchNorm1d(128)  # Batch normalization setelah fully connected layer 3\n",
    "        self.fc4 = nn.Linear(128, 10)\n",
    "        self.dropout = nn.Dropout(0.4)  # Dropout untuk mencegah overfitting\n",
    "\n",
    "    def forward(self, x):\n",
    "        x = x.view(-1, 28 * 28)  # Meratakan input gambar menjadi vektor 1 dimensi\n",
    "        x = F.relu(self.bn1(self.fc1(x)))  # Aktivasi ReLU setelah batch norm layer 1\n",
    "        x = self.dropout(x)  # Dropout\n",
    "        x = F.relu(self.bn2(self.fc2(x)))  # Aktivasi ReLU setelah batch norm layer 2\n",
    "        x = self.dropout(x)  # Dropout\n",
    "        x = F.relu(self.bn3(self.fc3(x)))  # Aktivasi ReLU setelah batch norm layer 3\n",
    "        x = self.dropout(x)  # Dropout\n",
    "        x = self.fc4(x)  # Tidak menggunakan aktivasi untuk output, karena CrossEntropyLoss sudah memasukkan softmax\n",
    "        return x"
   ]
  },
  {
   "cell_type": "markdown",
   "metadata": {},
   "source": [
    "## 6. Inisialisasi Model, Loss Function dan Optimizer"
   ]
  },
  {
   "cell_type": "code",
   "execution_count": 11,
   "metadata": {},
   "outputs": [],
   "source": [
    "model = MNISTModel()\n",
    "criterion = nn.CrossEntropyLoss()  # Fungsi loss untuk klasifikasi multi-kelas\n",
    "optimizer = optim.Adam(model.parameters(), lr=learning_rate)  # Optimizer Adam"
   ]
  },
  {
   "cell_type": "markdown",
   "metadata": {},
   "source": [
    "## 7. Fungsi Training"
   ]
  },
  {
   "cell_type": "code",
   "execution_count": 12,
   "metadata": {},
   "outputs": [],
   "source": [
    "def train_model(model, train_loader, criterion, optimizer, num_epochs):\n",
    "    model.train()  # Set model ke mode training\n",
    "    for epoch in range(num_epochs):\n",
    "        total_loss = 0\n",
    "        for images, labels in train_loader:\n",
    "            optimizer.zero_grad()  # Reset gradien\n",
    "            outputs = model(images)  # Forward pass\n",
    "            loss = criterion(outputs, labels)  # Hitung loss\n",
    "            loss.backward()  # Backpropagation\n",
    "            optimizer.step()  # Update bobot\n",
    "\n",
    "            total_loss += loss.item()  # Simpan total loss\n",
    "\n",
    "        avg_loss = total_loss / len(train_loader)  # Rata-rata loss per epoch\n",
    "        print(f\"Epoch [{epoch+1}/{num_epochs}], Loss: {avg_loss:.4f}\")"
   ]
  },
  {
   "cell_type": "markdown",
   "metadata": {},
   "source": [
    "## 8. Fungsi Testing"
   ]
  },
  {
   "cell_type": "code",
   "execution_count": 13,
   "metadata": {},
   "outputs": [],
   "source": [
    "def test_model(model, test_loader):\n",
    "    model.eval()  # Set model ke mode evaluasi\n",
    "    correct = 0\n",
    "    total = 0\n",
    "    with torch.no_grad():  # Tidak perlu hitung gradien saat testing\n",
    "        for images, labels in test_loader:\n",
    "            outputs = model(images)\n",
    "            _, predicted = torch.max(outputs.data, 1)  # Prediksi label dengan probabilitas tertinggi\n",
    "            total += labels.size(0)  # Total data\n",
    "            correct += (predicted == labels).sum().item()  # Hitung prediksi yang benar\n",
    "\n",
    "    accuracy = 100 * correct / total  # Hitung akurasi\n",
    "    print(f'Akurasi model pada 10.000 gambar test: {accuracy:.2f}%')"
   ]
  },
  {
   "cell_type": "markdown",
   "metadata": {},
   "source": [
    "## 9. Evaluasi dan Validasi Model"
   ]
  },
  {
   "cell_type": "code",
   "execution_count": 14,
   "metadata": {},
   "outputs": [
    {
     "name": "stdout",
     "output_type": "stream",
     "text": [
      "Epoch [1/100], Loss: 0.3507\n",
      "Epoch [2/100], Loss: 0.1818\n",
      "Epoch [3/100], Loss: 0.1467\n",
      "Epoch [4/100], Loss: 0.1233\n",
      "Epoch [5/100], Loss: 0.1157\n",
      "Epoch [6/100], Loss: 0.1018\n",
      "Epoch [7/100], Loss: 0.0963\n",
      "Epoch [8/100], Loss: 0.0868\n",
      "Epoch [9/100], Loss: 0.0826\n",
      "Epoch [10/100], Loss: 0.0775\n",
      "Epoch [11/100], Loss: 0.0718\n",
      "Epoch [12/100], Loss: 0.0700\n",
      "Epoch [13/100], Loss: 0.0648\n",
      "Epoch [14/100], Loss: 0.0607\n",
      "Epoch [15/100], Loss: 0.0596\n",
      "Epoch [16/100], Loss: 0.0575\n",
      "Epoch [17/100], Loss: 0.0543\n",
      "Epoch [18/100], Loss: 0.0508\n",
      "Epoch [19/100], Loss: 0.0509\n",
      "Epoch [20/100], Loss: 0.0473\n",
      "Epoch [21/100], Loss: 0.0448\n",
      "Epoch [22/100], Loss: 0.0458\n",
      "Epoch [23/100], Loss: 0.0441\n",
      "Epoch [24/100], Loss: 0.0407\n",
      "Epoch [25/100], Loss: 0.0425\n",
      "Epoch [26/100], Loss: 0.0419\n",
      "Epoch [27/100], Loss: 0.0363\n",
      "Epoch [28/100], Loss: 0.0392\n",
      "Epoch [29/100], Loss: 0.0373\n",
      "Epoch [30/100], Loss: 0.0348\n",
      "Epoch [31/100], Loss: 0.0348\n",
      "Epoch [32/100], Loss: 0.0358\n",
      "Epoch [33/100], Loss: 0.0342\n",
      "Epoch [34/100], Loss: 0.0321\n",
      "Epoch [35/100], Loss: 0.0314\n",
      "Epoch [36/100], Loss: 0.0312\n",
      "Epoch [37/100], Loss: 0.0309\n",
      "Epoch [38/100], Loss: 0.0328\n",
      "Epoch [39/100], Loss: 0.0304\n",
      "Epoch [40/100], Loss: 0.0287\n",
      "Epoch [41/100], Loss: 0.0291\n",
      "Epoch [42/100], Loss: 0.0289\n",
      "Epoch [43/100], Loss: 0.0263\n",
      "Epoch [44/100], Loss: 0.0280\n",
      "Epoch [45/100], Loss: 0.0278\n",
      "Epoch [46/100], Loss: 0.0276\n",
      "Epoch [47/100], Loss: 0.0272\n",
      "Epoch [48/100], Loss: 0.0287\n",
      "Epoch [49/100], Loss: 0.0258\n",
      "Epoch [50/100], Loss: 0.0255\n",
      "Epoch [51/100], Loss: 0.0245\n",
      "Epoch [52/100], Loss: 0.0259\n",
      "Epoch [53/100], Loss: 0.0258\n",
      "Epoch [54/100], Loss: 0.0261\n",
      "Epoch [55/100], Loss: 0.0253\n",
      "Epoch [56/100], Loss: 0.0228\n",
      "Epoch [57/100], Loss: 0.0227\n",
      "Epoch [58/100], Loss: 0.0247\n",
      "Epoch [59/100], Loss: 0.0218\n",
      "Epoch [60/100], Loss: 0.0223\n",
      "Epoch [61/100], Loss: 0.0219\n",
      "Epoch [62/100], Loss: 0.0229\n",
      "Epoch [63/100], Loss: 0.0206\n",
      "Epoch [64/100], Loss: 0.0217\n",
      "Epoch [65/100], Loss: 0.0233\n",
      "Epoch [66/100], Loss: 0.0195\n",
      "Epoch [67/100], Loss: 0.0211\n",
      "Epoch [68/100], Loss: 0.0193\n",
      "Epoch [69/100], Loss: 0.0201\n",
      "Epoch [70/100], Loss: 0.0210\n",
      "Epoch [71/100], Loss: 0.0206\n",
      "Epoch [72/100], Loss: 0.0173\n",
      "Epoch [73/100], Loss: 0.0194\n",
      "Epoch [74/100], Loss: 0.0198\n",
      "Epoch [75/100], Loss: 0.0201\n",
      "Epoch [76/100], Loss: 0.0192\n",
      "Epoch [77/100], Loss: 0.0189\n",
      "Epoch [78/100], Loss: 0.0183\n",
      "Epoch [79/100], Loss: 0.0184\n",
      "Epoch [80/100], Loss: 0.0182\n",
      "Epoch [81/100], Loss: 0.0184\n",
      "Epoch [82/100], Loss: 0.0191\n",
      "Epoch [83/100], Loss: 0.0173\n",
      "Epoch [84/100], Loss: 0.0174\n",
      "Epoch [85/100], Loss: 0.0194\n",
      "Epoch [86/100], Loss: 0.0176\n",
      "Epoch [87/100], Loss: 0.0188\n",
      "Epoch [88/100], Loss: 0.0173\n",
      "Epoch [89/100], Loss: 0.0160\n",
      "Epoch [90/100], Loss: 0.0169\n",
      "Epoch [91/100], Loss: 0.0169\n",
      "Epoch [92/100], Loss: 0.0179\n",
      "Epoch [93/100], Loss: 0.0172\n",
      "Epoch [94/100], Loss: 0.0165\n",
      "Epoch [95/100], Loss: 0.0176\n",
      "Epoch [96/100], Loss: 0.0153\n",
      "Epoch [97/100], Loss: 0.0183\n",
      "Epoch [98/100], Loss: 0.0164\n",
      "Epoch [99/100], Loss: 0.0152\n",
      "Epoch [100/100], Loss: 0.0174\n",
      "Akurasi model pada 10.000 gambar test: 98.54%\n"
     ]
    }
   ],
   "source": [
    "train_model(model, train_loader, criterion, optimizer, num_epochs)\n",
    "test_model(model, test_loader)"
   ]
  }
 ],
 "metadata": {
  "kernelspec": {
   "display_name": "Python 3",
   "language": "python",
   "name": "python3"
  },
  "language_info": {
   "codemirror_mode": {
    "name": "ipython",
    "version": 3
   },
   "file_extension": ".py",
   "mimetype": "text/x-python",
   "name": "python",
   "nbconvert_exporter": "python",
   "pygments_lexer": "ipython3",
   "version": "3.11.9"
  }
 },
 "nbformat": 4,
 "nbformat_minor": 2
}
